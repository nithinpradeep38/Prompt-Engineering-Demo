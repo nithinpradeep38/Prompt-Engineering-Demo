{
 "cells": [
  {
   "cell_type": "code",
   "execution_count": 61,
   "metadata": {},
   "outputs": [],
   "source": [
    "import yaml\n",
    "\n",
    "yaml_file= \"key.yaml\"\n",
    "\n",
    "with open(yaml_file,'r') as f:\n",
    "    key_info= yaml.safe_load(f)\n",
    "    openai_key= key_info['OPENAI_API_KEY']"
   ]
  },
  {
   "cell_type": "code",
   "execution_count": 62,
   "metadata": {},
   "outputs": [],
   "source": [
    "import openai\n",
    "\n",
    "openai.api_key= openai_key"
   ]
  },
  {
   "cell_type": "code",
   "execution_count": 63,
   "metadata": {},
   "outputs": [],
   "source": [
    "model= 'gpt-3.5-turbo'"
   ]
  },
  {
   "cell_type": "code",
   "execution_count": 64,
   "metadata": {},
   "outputs": [],
   "source": [
    "def get_response(messages,model=\"gpt-3.5-turbo\"):\n",
    "\n",
    "    response = openai.ChatCompletion.create(\n",
    "        model=model,\n",
    "        messages=messages)\n",
    "\n",
    "    return response.choices[0].message.content\n",
    "\n"
   ]
  },
  {
   "cell_type": "code",
   "execution_count": 25,
   "metadata": {},
   "outputs": [],
   "source": [
    "import json\n",
    "\n",
    "def read_lines_from_qbank(file_path,n):\n",
    "    with open(file_path, 'r') as file:\n",
    "        for i, line in enumerate(file):\n",
    "            if i == n:\n",
    "                try:\n",
    "                    json_data = json.loads(line.strip())\n",
    "                    question= json_data['question']+ \"\\n\\n\"\n",
    "                    question+=\"Options: \\n\"\n",
    "                    for key, value in json_data['options'].items():\n",
    "                        question+=f\"{key}. {value}\\n\"\n",
    "                    answer= json_data['answer']\n",
    "                    return question, answer\n",
    "                except json.JSONDecodeError as e:\n",
    "                    print(f\"Error decoding JSON on line {n + 1}: {e}\")\n",
    "                    return None\n",
    "        print(f\"Error: Line {n + 1} not found in {file_path}\")\n",
    "        return None\n"
   ]
  },
  {
   "cell_type": "code",
   "execution_count": 39,
   "metadata": {},
   "outputs": [],
   "source": [
    "json_file= './data_clean/questions/US/US_qbank.jsonl'\n",
    "\n",
    "first_question, first_answer= read_lines_from_qbank(json_file,0)\n",
    "second_question, second_answer= read_lines_from_qbank(json_file,1)\n",
    "third_question, third_answer= read_lines_from_qbank(json_file,2)\n",
    "fourth_question, fourth_answer= read_lines_from_qbank(json_file,3) "
   ]
  },
  {
   "cell_type": "code",
   "execution_count": 42,
   "metadata": {},
   "outputs": [
    {
     "name": "stdout",
     "output_type": "stream",
     "text": [
      "A 4670-g (10-lb 5-oz) male newborn is delivered at term to a 26-year-old woman after prolonged labor. Apgar scores are 9 and 9 at 1 and 5 minutes. Examination in the delivery room shows swelling, tenderness, and crepitus over the left clavicle. There is decreased movement of the left upper extremity. Movement of the hands and wrists are normal. A grasping reflex is normal in both hands. An asymmetric Moro reflex is present. The remainder of the examination shows no abnormalities and an anteroposterior x-ray confirms the diagnosis. Which of the following is the most appropriate next step in management?\n",
      "\n",
      "Options: \n",
      "A. Nerve conduction study\n",
      "B. Surgical fixation\n",
      "C. Physical therapy\n",
      "D. Pin sleeve to the shirt\n",
      "E. Splinting of the arm\n",
      "F. MRI of the clavicle\n",
      " D \n",
      "\n",
      "A 66-year-old man comes to the physician for a 3-month history of fatigue. He has hypertension and hyperlipidemia. He had a transient ischemic attack 3 years ago. He drinks 3 beers a day, and sometimes a couple more on social occasions. He currently takes aspirin, simvastatin, hydrochlorothiazide, and metoprolol. His temperature is 37.1°C (98.8°F), pulse is 78, respirations are 19/min, and oxygen saturation on room air is 97%. He is in no distress but shows marked pallor and has multiple pinpoint, red, nonblanching spots on his extremities. On palpation, his spleen is significantly enlarged. Laboratory studies show a hemoglobin of 8.0 g/dL, a leukocyte count of 80,000/mm3, and a platelet count of 34,000/mm3. A blood smear shows immature cells with large, prominent nucleoli and pink, elongated, needle-shaped cytoplasmic inclusions. Which of the following is the most likely diagnosis?\n",
      "\n",
      "Options: \n",
      "A. Cirrhosis\n",
      "B. Acute lymphoblastic leukemia\n",
      "C. Chronic myelogenous leukemia\n",
      "D. Myelodysplastic syndrome\n",
      "E. Chronic lymphocytic leukemia\n",
      "F. Acute myelogenous leukemia\n",
      " F \n",
      "\n",
      "A 40-year-old man comes to the physician because of a 5-month history of watery diarrhea and episodic crampy abdominal pain. He has no fever, nausea, or vomiting. Over the past 6 months, he has had a 1.8-kg (4-lb) weight loss, despite experiencing no decrease in appetite. His wife has noticed that sometimes his face and neck become red after meals or when he is in distress. A year ago, he was diagnosed with asthma. He has hypertension. Current medications include an albuterol inhaler and enalapril. He drinks one beer daily. His temperature is 36.7°C (98°F), pulse is 85/min, and blood pressure is 130/85 mm Hg. The lungs are clear to auscultation. A grade 2/6 systolic murmur is heard best at the left sternal border and fourth intercostal space. The abdomen is soft, and there is mild tenderness to palpation with no guarding or rebound. The remainder of the physical examination shows no abnormalities. A complete blood count is within the reference range. Without treatment, this patient is at greatest risk for which of the following conditions?\n",
      "\n",
      "Options: \n",
      "A. Asphyxia\n",
      "B. Achlorhydria\n",
      "C. T-cell lymphoma\n",
      "D. Megaloblastic anemia\n",
      "E. Dementia\n",
      "F. Intestinal fistula\n",
      "G. Arthritis\n",
      " E \n",
      "\n",
      "A 4-year-old boy is brought to the emergency department because of severe abdominal pain and bilious vomiting for 6 hours. He has not had bowel movements in the past 24 hours. He appears ill. His temperature is 37.8°C (100°F) and pulse is 122/min. Examination shows a distended abdomen. There is tenderness to palpation in the lower abdomen; guarding and rebound tenderness are present. Bowel sounds are decreased. An x-ray of the abdomen shows dilated loops of bowel. He has been accompanied by his 14-year-old brother. The surgeon recommends an emergency laparotomy. The parents are away visiting friends and cannot be reached. Which of the following is the most appropriate next best step in management?\n",
      "\n",
      "Options: \n",
      "A. Get consent from the patient's brother\n",
      "B. Get consent from the patient\n",
      "C. Obtain a court order for surgery\n",
      "D. Schedule hospital ethics consult\n",
      "E. Perform emergency laparotomy\n",
      "F. Delay surgery until parental consent\n",
      " E\n"
     ]
    }
   ],
   "source": [
    "print(first_question, first_answer,  \"\\n\")\n",
    "print(second_question, second_answer,\"\\n\")\n",
    "print(third_question, third_answer,\"\\n\")\n",
    "print(fourth_question, fourth_answer)"
   ]
  },
  {
   "cell_type": "code",
   "execution_count": 43,
   "metadata": {},
   "outputs": [],
   "source": [
    "system_role = \"You are a helpful assistant that answers multiple choice questions about medical knowledge.\""
   ]
  },
  {
   "cell_type": "markdown",
   "metadata": {},
   "source": [
    "### Few Shot Prompting"
   ]
  },
  {
   "cell_type": "code",
   "execution_count": 65,
   "metadata": {},
   "outputs": [],
   "source": [
    "#We give answers to first three question and then ask the answer for the fourth question\n",
    "user_prompt = f'''Question:{first_question}\n",
    "Answer:{first_answer}\n",
    "\n",
    "Question:{second_question}\n",
    "Answer:{second_answer}\n",
    "\n",
    "Question:{third_question}\n",
    "Answer:{third_answer}\n",
    "\n",
    "Question:{fourth_question}\n",
    "Answer:\n",
    "'''"
   ]
  },
  {
   "cell_type": "code",
   "execution_count": 66,
   "metadata": {},
   "outputs": [],
   "source": [
    "messages=[{'role':'system','content':system_role},\n",
    "          {'role':'user','content':user_prompt}\n",
    "          ]"
   ]
  },
  {
   "cell_type": "code",
   "execution_count": 48,
   "metadata": {},
   "outputs": [
    {
     "name": "stdout",
     "output_type": "stream",
     "text": [
      "E. Perform emergency laparotomy\n"
     ]
    }
   ],
   "source": [
    "print(get_response(messages)) #gpt 3.5"
   ]
  },
  {
   "cell_type": "code",
   "execution_count": 67,
   "metadata": {},
   "outputs": [
    {
     "name": "stdout",
     "output_type": "stream",
     "text": [
      "E. Perform emergency laparotomy\n",
      "\n",
      "In emergency situations where a life-threatening condition exists and immediate medical care is necessary, it's legally acceptable to proceed with surgical intervention without explicit parental or guardian consent if they cannot be reached in time. This principle applies here with the critical condition indicating an acute surgical abdomen, likely requiring immediate action to prevent serious harm or death. The law provides for implied consent in such emergencies, especially when dealing with patients who are minors and unable to consent for themselves.\n"
     ]
    }
   ],
   "source": [
    "print(get_response(messages=messages, model='gpt-4-turbo')) # gpt 4"
   ]
  },
  {
   "cell_type": "code",
   "execution_count": 49,
   "metadata": {},
   "outputs": [
    {
     "data": {
      "text/plain": [
       "'E'"
      ]
     },
     "execution_count": 49,
     "metadata": {},
     "output_type": "execute_result"
    }
   ],
   "source": [
    "fourth_answer"
   ]
  },
  {
   "cell_type": "markdown",
   "metadata": {},
   "source": [
    "Through few shot prompting we could get the correct response to the fourth question.\n",
    "\n",
    "### One Shot Prompting"
   ]
  },
  {
   "cell_type": "code",
   "execution_count": 68,
   "metadata": {},
   "outputs": [],
   "source": [
    "user_prompt = f'''Question:{first_question}\n",
    "Answer:{first_answer}\n",
    "\n",
    "Question:{fourth_question}\n",
    "Answer:\n",
    "'''"
   ]
  },
  {
   "cell_type": "code",
   "execution_count": 69,
   "metadata": {},
   "outputs": [],
   "source": [
    "messages=[{'role':'system','content':system_role},\n",
    "          {'role':'user','content':user_prompt}\n",
    "          ]"
   ]
  },
  {
   "cell_type": "code",
   "execution_count": 58,
   "metadata": {},
   "outputs": [
    {
     "name": "stdout",
     "output_type": "stream",
     "text": [
      "Answer: E. Perform emergency laparotomy\n",
      "\n",
      "Explanation: In situations where the parents cannot be reached and there is an urgent need for a surgical procedure to save the child's life, the healthcare provider is allowed to proceed with the surgery without parental consent as long as the procedure is necessary to prevent harm. Delaying surgery could result in significant harm or even death to the child. It is crucial to prioritize the well-being and safety of the child in such critical situations.\n"
     ]
    }
   ],
   "source": [
    "print(get_response(messages)) # gpt 3.5"
   ]
  },
  {
   "cell_type": "code",
   "execution_count": 70,
   "metadata": {},
   "outputs": [
    {
     "name": "stdout",
     "output_type": "stream",
     "text": [
      "E. Perform emergency laparotomy\n",
      "\n",
      "In this scenario, the child is experiencing symptoms suggestive of a surgical emergency, such as intestinal obstruction or a similar acute condition characterized by severe abdominal pain, bilious vomiting, abdominal distension, and peritoneal signs. When a minor requires urgent surgical intervention and parents or legal guardians are not available to give consent, medical providers are ethically and legally permitted to proceed with necessary treatments to preserve life or prevent serious harm. This is based on the doctrine of implied consent in emergency situations, where it is assumed that a reasonable person would consent to emergency medical treatment if able. Delaying surgery could potentially worsen the outcome for the patient, making it necessary to perform the emergency laparotomy without delay.\n"
     ]
    }
   ],
   "source": [
    "print(get_response(messages=messages, model='gpt-4-turbo')) # gpt 4"
   ]
  },
  {
   "cell_type": "markdown",
   "metadata": {},
   "source": [
    "One shot Prompting also provided the correct response\n",
    "\n",
    "### Zero Shot Prompting"
   ]
  },
  {
   "cell_type": "code",
   "execution_count": 71,
   "metadata": {},
   "outputs": [],
   "source": [
    "user_prompt = f'''Question:{fourth_question}\n",
    "Answer:\n",
    "'''"
   ]
  },
  {
   "cell_type": "code",
   "execution_count": 72,
   "metadata": {},
   "outputs": [],
   "source": [
    "messages=[{'role':'system','content':system_role},\n",
    "          {'role':'user','content':user_prompt}\n",
    "          ]"
   ]
  },
  {
   "cell_type": "code",
   "execution_count": 60,
   "metadata": {},
   "outputs": [
    {
     "name": "stdout",
     "output_type": "stream",
     "text": [
      "Answer: E. Perform emergency laparotomy\n",
      "\n",
      "In emergency situations where a delay in treatment can lead to serious harm or death, consent can be obtained from a surrogate decision maker if the parents are unavailable. In this case, the patient's brother can be considered as the surrogate decision maker. It is crucial to proceed with the necessary medical intervention promptly to address the acute condition.\n"
     ]
    }
   ],
   "source": [
    "print(get_response(messages)) # gpt 3.5"
   ]
  },
  {
   "cell_type": "code",
   "execution_count": 73,
   "metadata": {},
   "outputs": [
    {
     "name": "stdout",
     "output_type": "stream",
     "text": [
      "E. Perform emergency laparotomy\n",
      "\n",
      "In situations where immediate and urgent action is required to save a patient’s life or prevent serious harm, physicians can proceed with necessary medical interventions such as surgery without consent to save the child's life. The symptoms and findings in this case (severe abdominal pain, bilious vomiting, distended abdomen, signs of peritonitis) suggest an acute surgical abdomen possibly due to conditions like intestinal volvulus or intussusception that require immediate surgical intervention. If the consent of the parents or legal guardians cannot be obtained in a timely manner, and delaying treatment might endanger the patient's life, the surgeon is ethically and legally justified to perform the surgery under the doctrine of implied consent for emergency care.\n",
      "\n"
     ]
    }
   ],
   "source": [
    "print(get_response(messages=messages, model='gpt-4-turbo')) # gpt 4"
   ]
  },
  {
   "cell_type": "markdown",
   "metadata": {},
   "source": [
    "Zero Shot prompting also provided correct responses"
   ]
  },
  {
   "cell_type": "markdown",
   "metadata": {},
   "source": []
  }
 ],
 "metadata": {
  "kernelspec": {
   "display_name": "base",
   "language": "python",
   "name": "python3"
  },
  "language_info": {
   "codemirror_mode": {
    "name": "ipython",
    "version": 3
   },
   "file_extension": ".py",
   "mimetype": "text/x-python",
   "name": "python",
   "nbconvert_exporter": "python",
   "pygments_lexer": "ipython3",
   "version": "3.11.7"
  }
 },
 "nbformat": 4,
 "nbformat_minor": 2
}
